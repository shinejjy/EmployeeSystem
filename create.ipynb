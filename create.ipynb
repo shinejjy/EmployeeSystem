{
 "cells": [
  {
   "cell_type": "code",
   "execution_count": 9,
   "outputs": [],
   "source": [
    "from Database.SQL import EasySql\n",
    "import pandas as pd"
   ],
   "metadata": {
    "collapsed": false
   }
  },
  {
   "cell_type": "code",
   "execution_count": 10,
   "outputs": [],
   "source": [
    "df = pd.read_excel(\n",
    "    io='辅料销售涉及主要表格例/2外贸部客户档案表模板202303.xlsx',\n",
    "    header=None,\n",
    "    sheet_name=0,\n",
    "    usecols=\"A:AM\",\n",
    "    # index_col=0,\n",
    "    skiprows=5,\n",
    "    nrows=9,\n",
    "    na_values=[]\n",
    ")\n",
    "df = df.fillna(\"null\")"
   ],
   "metadata": {
    "collapsed": false
   }
  },
  {
   "cell_type": "code",
   "execution_count": 11,
   "outputs": [
    {
     "name": "stdout",
     "output_type": "stream",
     "text": [
      "    0  1          2                                                  3    4    \n",
      "0  严之均  A 2022-11-10                                         EVA pharma   埃及  \\\n",
      "1   曹乐  A 2022-03-01                           宁波美诺华\\n吉瑞医药科技（宁波）\\n终端墨西哥  墨西哥   \n",
      "2  严之均  B 2020-03-01                                      济南安德-\\nVEMDIM   越南   \n",
      "3  严之均  B 2020-03-01                            济南安德-\\nTravetco Vietnam   越南   \n",
      "4   曹乐  A 2023-02-22  CÔNG TY TNHH MỘT THÀNH VIÊN DƯỢC ANPHARMA；\\nAn...   越南   \n",
      "5  严之均  C 2020-11-05                          Edric Joint Stock Company   越南   \n",
      "6   曹乐  A 2022-05-20  DSL Global company\\nNew Far East Pharmaceutica...   越南   \n",
      "7   曹乐  A 2022-05-16           DKSH Vietnam Co. Ltd.\\n越南DP150\\n越南Boston   越南   \n",
      "8   曹乐  A 2022-09-09  CÔNG TY TNHH THƯƠNG MẠI VÀ DỊCH VỤ ÁNH SÁNG CH...   越南   \n",
      "\n",
      "   5                  6       7       8        9   ...    29    30    31   \n",
      "0  邮件             硬脂富马酸钠  AG2501  USP+EP       片剂  ...  null  null  null  \\\n",
      "1  微信              L-苹果酸    null    null  西他列汀中间体  ...  null  null  null   \n",
      "2  开发              三氯叔丁醇    null    null       兽药  ...  null  null  null   \n",
      "3  开发  三氯叔丁醇  苯甲醇 山嵛酸甘油酯    null    null     null  ...  null  null  null   \n",
      "4  开发               二甲硅油    null    null       人药  ...  null  null  null   \n",
      "5  微信               二甲硅油    null    null     null  ...  null  null  null   \n",
      "6  邮件             中链甘油三酯    null    null     null  ...  null  null  null   \n",
      "7  邮件             硬脂富马酸钠    null    null     null  ...  null  null  null   \n",
      "8  开发               油酸乙酯    null    null     null  ...  null  null  null   \n",
      "\n",
      "     32    33    34    35    36    37    38  \n",
      "0  null  null  null  null  null  null  null  \n",
      "1  null  null  null  null  null  null  null  \n",
      "2  null  null  null  null  null  null  null  \n",
      "3  null  null  null  null  null  null  null  \n",
      "4  null  null  null  null  null  null  null  \n",
      "5  null  null  null  null  null  null  null  \n",
      "6  null  null  null  null  null  null  null  \n",
      "7  null  null  null  null  null  null  null  \n",
      "8  null  null  null  null  null  null  null  \n",
      "\n",
      "[9 rows x 39 columns]\n"
     ]
    }
   ],
   "source": [
    "print(df)"
   ],
   "metadata": {
    "collapsed": false
   }
  },
  {
   "cell_type": "code",
   "execution_count": 12,
   "outputs": [
    {
     "name": "stdout",
     "output_type": "stream",
     "text": [
      "连接数据库成功！\n"
     ]
    }
   ],
   "source": [
    "db = EasySql()"
   ],
   "metadata": {
    "collapsed": false
   }
  },
  {
   "cell_type": "markdown",
   "source": [],
   "metadata": {
    "collapsed": false
   }
  },
  {
   "cell_type": "markdown",
   "source": [
    "table_name = 'StaffInformation'\n",
    "type_dic = {\n",
    "    'DEPT' : 'VARCHAR(255)',\n",
    "    'SN' : 'VARCHAR(255)',\n",
    "    'SSex' : 'VARCHAR(255)',\n",
    "    'SP' : 'VARCHAR(255)',\n",
    "    'SID' : 'VARCHAR(255)',\n",
    "    'SPassWord': 'VARCHAR(255)',\n",
    "    'SS' : 'VARCHAR(255)',\n",
    "}\n",
    "db.creatTable(table_name, type_dic)"
   ],
   "metadata": {
    "collapsed": false
   }
  },
  {
   "cell_type": "markdown",
   "source": [
    "for index, row in df.iterrows():\n",
    "    variable_list = []\n",
    "    for i, value in enumerate(row):\n",
    "        print(value)\n",
    "        if pd.isna(value):\n",
    "            variable_list.append(\"null\")\n",
    "        else:\n",
    "            variable_list.append(f\"'{value}'\")\n",
    "        if i == 4:\n",
    "            variable_list.append(\"12345\")\n",
    "    db.insertTable(table_name, variable_list)"
   ],
   "metadata": {
    "collapsed": false
   }
  },
  {
   "cell_type": "code",
   "execution_count": 13,
   "outputs": [
    {
     "name": "stdout",
     "output_type": "stream",
     "text": [
      "连接数据库成功！\n",
      "表格已存在\n"
     ]
    }
   ],
   "source": [
    "# 创建一个 EasySql 实例\n",
    "db = EasySql()\n",
    "\n",
    "# 定义表格名和字段类型字典\n",
    "table_name = \"ForeignTradeCustomerRecordsTable\"\n",
    "type_dic = {\n",
    "    \"Salesperson\": \"VARCHAR(255)\",\n",
    "    \"Level\": \"VARCHAR(255)\",\n",
    "    \"DevDate\": \"DATE\",\n",
    "    \"CompanyName\": \"VARCHAR(255)\",\n",
    "    \"Country\": \"VARCHAR(255)\",\n",
    "    \"Media\": \"VARCHAR(255)\",\n",
    "    \"ProductName\": \"VARCHAR(255)\",\n",
    "    \"SpecCode\": \"VARCHAR(255)\",\n",
    "    \"SpecCodeRemarks\": \"VARCHAR(255)\",\n",
    "    \"Usage\": \"VARCHAR(255)\",\n",
    "    \"FollowUp\": \"VARCHAR(255)\",\n",
    "    \"CompanyNature\": \"VARCHAR(255)\",\n",
    "    \"CompanyProfile\": \"VARCHAR(255)\",\n",
    "    \"CustomerContact\": \"VARCHAR(255)\",\n",
    "    \"CustomerEmail\": \"VARCHAR(255)\",\n",
    "    \"CustomerPhone\": \"VARCHAR(255)\",\n",
    "    \"CustomerWebsite\": \"VARCHAR(255)\",\n",
    "    \"Negotiation\": \"DATE\",\n",
    "    \"Sample\": \"DATE\",\n",
    "    \"Questionnaire\": \"DATE\",\n",
    "    \"Deal\": \"DATE\",\n",
    "    \"SupplierAudit\": \"DATE\",\n",
    "    \"EstAnnualUsage\": \"VARCHAR(255)\",\n",
    "    \"CurrManufacturer\": \"VARCHAR(255)\",\n",
    "    \"Grade\": \"VARCHAR(255)\",\n",
    "    \"Model\": \"VARCHAR(255)\",\n",
    "    \"PricePerKg\": \"VARCHAR(255)\",\n",
    "    \"Jan2023\": \"DATE\",\n",
    "    \"Feb2023\": \"DATE\",\n",
    "    \"Mar2023\": \"DATE\",\n",
    "    \"Apr2023\": \"DATE\",\n",
    "    \"May2023\": \"DATE\",\n",
    "    \"Jun2023\": \"DATE\",\n",
    "    \"Jul2023\": \"DATE\",\n",
    "    \"Aug2023\": \"DATE\",\n",
    "    \"Sep2023\": \"DATE\",\n",
    "    \"Oct2023\": \"DATE\",\n",
    "    \"Nov2023\": \"DATE\",\n",
    "    \"Dec2023\": \"DATE\"\n",
    "}\n",
    "\n",
    "\n",
    "\n",
    "# 创建表格\n",
    "db.creatTable(table_name, type_dic)\n"
   ],
   "metadata": {
    "collapsed": false
   }
  },
  {
   "cell_type": "code",
   "execution_count": 24,
   "outputs": [
    {
     "name": "stdout",
     "output_type": "stream",
     "text": [
      "严之均\n",
      "A\n",
      "EVA pharma\n",
      "埃及\n",
      "邮件\n",
      "硬脂富马酸钠\n",
      "AG2501\n",
      "USP+EP\n",
      "片剂\n",
      "2022.12 \n",
      "CIF sea price as below: 500kg Sodium stearyl fumarate\n",
      "$53.2/kg.（Particle size= D90:max 45microns）\n",
      "终端\n",
      "总部开罗，3000名员工，每天生产350,000种药物，涵盖超过165种药品组合，包括神经病学，精神病学，心血管病，骨科，GIT，儿科，泌尿科和皮肤科。我们的重点是品牌仿制药，非处方药，食品补充剂，草药和兽药\n",
      "Dr. Rahma Hammad\n",
      "Sourcing Supervisor\n",
      "收件人: \n",
      "'\\\\'rahma.hassan\\\\''<rahma.hassan@evapharma.com>\n",
      "抄送: \n",
      "George Masry<george.masry@evapharma.com>\n",
      "null\n",
      "邮箱： http://www.evapharma.com\n",
      "null\n",
      "null\n",
      "null\n",
      "null\n",
      "500KG\n",
      "null\n",
      "null\n",
      "null\n",
      "null\n",
      "null\n",
      "null\n",
      "null\n",
      "null\n",
      "null\n",
      "null\n",
      "null\n",
      "null\n",
      "null\n",
      "null\n",
      "null\n",
      "null\n",
      "INSERT INTO ForeignTradeCustomerRecordsTable VALUES ('严之均','A','2022-11-10 00:00:00','EVA pharma','埃及','邮件','硬脂富马酸钠','AG2501','USP+EP','片剂','2022.12 \n",
      "CIF sea price as below: 500kg Sodium stearyl fumarate\n",
      "$53.2/kg.（Particle size= D90:max 45microns）','终端','总部开罗，3000名员工，每天生产350,000种药物，涵盖超过165种药品组合，包括神经病学，精神病学，心血管病，骨科，GIT，儿科，泌尿科和皮肤科。我们的重点是品牌仿制药，非处方药，食品补充剂，草药和兽药','Dr. Rahma Hammad\n",
      "Sourcing Supervisor','收件人: \n",
      "'\\\\'rahma.hassan\\\\''<rahma.hassan@evapharma.com>\n",
      "抄送: \n",
      "George Masry<george.masry@evapharma.com>','null','邮箱： http://www.evapharma.com','2022-12-01 00:00:00','null','null','null','null','500KG','null','null','null','null','null','null','null','null','null','null','null','null','null','null','null','null')\n"
     ]
    },
    {
     "ename": "ProgrammingError",
     "evalue": "(102, b\"Incorrect syntax near '\\\\'.DB-Lib error message 20018, severity 15:\\nGeneral SQL Server error: Check messages from the SQL Server\\n\")",
     "output_type": "error",
     "traceback": [
      "\u001B[1;31m---------------------------------------------------------------------------\u001B[0m",
      "\u001B[1;31mMSSQLDatabaseException\u001B[0m                    Traceback (most recent call last)",
      "File \u001B[1;32msrc\\pymssql\\_pymssql.pyx:458\u001B[0m, in \u001B[0;36mpymssql._pymssql.Cursor.execute\u001B[1;34m()\u001B[0m\n",
      "File \u001B[1;32msrc\\pymssql\\_mssql.pyx:1086\u001B[0m, in \u001B[0;36mpymssql._mssql.MSSQLConnection.execute_query\u001B[1;34m()\u001B[0m\n",
      "File \u001B[1;32msrc\\pymssql\\_mssql.pyx:1117\u001B[0m, in \u001B[0;36mpymssql._mssql.MSSQLConnection.execute_query\u001B[1;34m()\u001B[0m\n",
      "File \u001B[1;32msrc\\pymssql\\_mssql.pyx:1250\u001B[0m, in \u001B[0;36mpymssql._mssql.MSSQLConnection.format_and_run_query\u001B[1;34m()\u001B[0m\n",
      "File \u001B[1;32msrc\\pymssql\\_mssql.pyx:1788\u001B[0m, in \u001B[0;36mpymssql._mssql.check_cancel_and_raise\u001B[1;34m()\u001B[0m\n",
      "File \u001B[1;32msrc\\pymssql\\_mssql.pyx:1834\u001B[0m, in \u001B[0;36mpymssql._mssql.raise_MSSQLDatabaseException\u001B[1;34m()\u001B[0m\n",
      "\u001B[1;31mMSSQLDatabaseException\u001B[0m: (102, b\"Incorrect syntax near '\\\\'.DB-Lib error message 20018, severity 15:\\nGeneral SQL Server error: Check messages from the SQL Server\\n\")",
      "\nDuring handling of the above exception, another exception occurred:\n",
      "\u001B[1;31mProgrammingError\u001B[0m                          Traceback (most recent call last)",
      "Cell \u001B[1;32mIn[24], line 8\u001B[0m\n\u001B[0;32m      6\u001B[0m         value\u001B[38;5;241m.\u001B[39mreplace(\u001B[38;5;124m'\u001B[39m\u001B[38;5;124m\"\u001B[39m\u001B[38;5;124m'\u001B[39m, \u001B[38;5;124m\"\u001B[39m\u001B[38;5;124m'\u001B[39m\u001B[38;5;124m\"\u001B[39m)\n\u001B[0;32m      7\u001B[0m     variable_list\u001B[38;5;241m.\u001B[39mappend(\u001B[38;5;124mf\u001B[39m\u001B[38;5;124m\"\u001B[39m\u001B[38;5;124m'\u001B[39m\u001B[38;5;132;01m{\u001B[39;00mvalue\u001B[38;5;132;01m}\u001B[39;00m\u001B[38;5;124m'\u001B[39m\u001B[38;5;124m\"\u001B[39m)\n\u001B[1;32m----> 8\u001B[0m \u001B[43mdb\u001B[49m\u001B[38;5;241;43m.\u001B[39;49m\u001B[43minsertTable\u001B[49m\u001B[43m(\u001B[49m\u001B[38;5;124;43m\"\u001B[39;49m\u001B[38;5;124;43mForeignTradeCustomerRecordsTable\u001B[39;49m\u001B[38;5;124;43m\"\u001B[39;49m\u001B[43m,\u001B[49m\u001B[43m \u001B[49m\u001B[43mvariable_list\u001B[49m\u001B[43m)\u001B[49m\n",
      "File \u001B[1;32mE:\\Class\\大二下\\数据库\\数据库大作业\\Database\\SQL.py:78\u001B[0m, in \u001B[0;36mEasySql.insertTable\u001B[1;34m(self, table_name, variable_list)\u001B[0m\n\u001B[0;32m     75\u001B[0m \u001B[38;5;28mprint\u001B[39m(sql)\n\u001B[0;32m     77\u001B[0m \u001B[38;5;66;03m# 执行 SQL 语句\u001B[39;00m\n\u001B[1;32m---> 78\u001B[0m \u001B[38;5;28;43mself\u001B[39;49m\u001B[38;5;241;43m.\u001B[39;49m\u001B[43mcursor\u001B[49m\u001B[38;5;241;43m.\u001B[39;49m\u001B[43mexecute\u001B[49m\u001B[43m(\u001B[49m\u001B[43msql\u001B[49m\u001B[43m)\u001B[49m\n",
      "File \u001B[1;32msrc\\pymssql\\_pymssql.pyx:475\u001B[0m, in \u001B[0;36mpymssql._pymssql.Cursor.execute\u001B[1;34m()\u001B[0m\n",
      "\u001B[1;31mProgrammingError\u001B[0m: (102, b\"Incorrect syntax near '\\\\'.DB-Lib error message 20018, severity 15:\\nGeneral SQL Server error: Check messages from the SQL Server\\n\")"
     ]
    }
   ],
   "source": [
    "for index, row in df.iterrows():\n",
    "    variable_list = []\n",
    "    for value in row.values:\n",
    "        if isinstance(value, str):\n",
    "            print(value)\n",
    "            value.replace('\"', \"'\")\n",
    "        variable_list.append(f\"'{value}'\")\n",
    "    db.insertTable(\"ForeignTradeCustomerRecordsTable\", variable_list)"
   ],
   "metadata": {
    "collapsed": false
   }
  },
  {
   "cell_type": "code",
   "execution_count": null,
   "outputs": [],
   "source": [],
   "metadata": {
    "collapsed": false
   }
  }
 ],
 "metadata": {
  "kernelspec": {
   "display_name": "Python 3",
   "language": "python",
   "name": "python3"
  },
  "language_info": {
   "codemirror_mode": {
    "name": "ipython",
    "version": 2
   },
   "file_extension": ".py",
   "mimetype": "text/x-python",
   "name": "python",
   "nbconvert_exporter": "python",
   "pygments_lexer": "ipython2",
   "version": "2.7.6"
  }
 },
 "nbformat": 4,
 "nbformat_minor": 0
}

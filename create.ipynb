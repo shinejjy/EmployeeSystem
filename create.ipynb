{
 "cells": [
  {
   "cell_type": "code",
   "execution_count": 1,
   "metadata": {
    "collapsed": true
   },
   "outputs": [],
   "source": [
    "from frame.easy_sql import EasySql\n",
    "import pandas as pd"
   ]
  },
  {
   "cell_type": "code",
   "execution_count": 2,
   "outputs": [],
   "source": [
    "df = pd.read_excel(\n",
    "    io='辅料销售涉及主要表格例/9员工信息表.xlsx',\n",
    "    sheet_name=0,\n",
    "    usecols=\"A:E,G:H\",\n",
    "    index_col=0,\n",
    "    skiprows=0,\n",
    "    nrows=37,\n",
    "    na_values=[]\n",
    ")"
   ],
   "metadata": {
    "collapsed": false
   }
  },
  {
   "cell_type": "code",
   "execution_count": 3,
   "outputs": [
    {
     "name": "stdout",
     "output_type": "stream",
     "text": [
      "               部门    姓名 性别                   职  位     工号   状态\n",
      "序号                                                           \n",
      "1          原辅料销售部   郭晓东  男   营销中心副总经理\\n销售六部总经理（兼）  XS001    L\n",
      "2          原辅料销售部   曾增威  男                销售一部总经理  XS002    L\n",
      "3             内务部   王宝萍  女                   内务助理  NW001  NaN\n",
      "4          原辅料销售部   欧代胜  男                销售二部总经理  XS003    L\n",
      "5          原辅料销售部   江礼滔  男                销售四部总经理  XS004    L\n",
      "6          原辅料销售部   崔金胜  男                销售五部总经理  XS005    L\n",
      "7          原辅料销售部    丁磊  男                 区域销售经理  XS006  NaN\n",
      "8             内务部    姜敏  女                   内务助理  NW002  NaN\n",
      "9   食品添加剂部兼原辅料销售部   董仲仁  男  食品添加剂部销售经理\\n区域销售经理（兼）  SP001    L\n",
      "10         原辅料销售部   杨永明  男                销售三部总经理  XS007    L\n",
      "11         原辅料销售部    彭新  男                 区域销售经理  XS008  NaN\n",
      "12          市场推广部    祁琦  女                市场推广部主管  TG001    L\n",
      "13            内务部    祝瑾  女                  内务部主管  NW003    L\n",
      "14            外贸部   邹逸杰  男                  外贸业务员  WM001  NaN\n",
      "15          产品管理部   王梦珊  女                产品管理部主管  CP001    L\n",
      "16            外贸部    曹乐  女                  外贸部主管  WM002    L\n",
      "17  食品添加剂部兼原辅料销售部   朱杪琪  男                 区域销售经理  SP002  NaN\n",
      "18            内务部   王佳欢  女                   内务助理  NW004  NaN\n",
      "19          研发服务部   顾寅晨  男                研发服务部专员  YF001  NaN\n",
      "20            内务部   纪淋娜  女                   内务助理  NW005  NaN\n",
      "21          市场推广部    尤红  女                   平面设计  TG002  NaN\n",
      "22         原辅料销售部    赵涵  男                 区域销售经理  XS009  NaN\n",
      "23         原辅料销售部    刘强  男                 区域销售经理  XS010  NaN\n",
      "24         原辅料销售部   甘忠尧  男                 区域销售经理  XS011  NaN\n",
      "25          研发服务部   施添铖  男                研发服务部专员  YF002  NaN\n",
      "26          市场推广部   马跃进  男                   平面设计  TG003  NaN\n",
      "27          研发服务部   张志豪  男                研发服务部主管  YF003    L\n",
      "28         原辅料销售部   柳申林  男                 区域销售经理  XS012  NaN\n",
      "29         原辅料销售部    潘俊  男                 区域销售经理  XS013  NaN\n",
      "30            外贸部   严之均  女                  外贸业务员  WM003  NaN\n",
      "31          产品管理部   陈欣妍  女                产品管理部专员  CP002  NaN\n",
      "32            信管部  蔡燕玲   女               数据库开发工程师  XG001  NaN\n",
      "33          研发服务部   杨锦锋  男                研发服务部专员  YF004  NaN\n",
      "34          产品管理部    章琪  女                产品管理部专员  CP003  NaN\n",
      "35         原辅料销售部   廖光强  男                 区域销售经理  XS014  NaN\n",
      "36         原辅料销售部   吉旭阳  男                 区域销售经理  XS015  NaN\n"
     ]
    }
   ],
   "source": [
    "print(df)"
   ],
   "metadata": {
    "collapsed": false
   }
  },
  {
   "cell_type": "code",
   "execution_count": 4,
   "outputs": [
    {
     "name": "stdout",
     "output_type": "stream",
     "text": [
      "连接数据库成功！\n"
     ]
    }
   ],
   "source": [
    "db = EasySql()"
   ],
   "metadata": {
    "collapsed": false
   }
  },
  {
   "cell_type": "markdown",
   "source": [],
   "metadata": {
    "collapsed": false
   }
  },
  {
   "cell_type": "markdown",
   "source": [
    "table_name = 'StaffInformation'\n",
    "type_dic = {\n",
    "    'DEPT' : 'VARCHAR(255)',\n",
    "    'SN' : 'VARCHAR(255)',\n",
    "    'SSex' : 'VARCHAR(255)',\n",
    "    'SP' : 'VARCHAR(255)',\n",
    "    'SID' : 'VARCHAR(255)',\n",
    "    'SPassWord': 'VARCHAR(255)',\n",
    "    'SS' : 'VARCHAR(255)',\n",
    "}\n",
    "db.creatTable(table_name, type_dic)"
   ],
   "metadata": {
    "collapsed": false
   }
  },
  {
   "cell_type": "markdown",
   "source": [
    "for index, row in df.iterrows():\n",
    "    variable_list = []\n",
    "    for i, value in enumerate(row):\n",
    "        print(value)\n",
    "        if pd.isna(value):\n",
    "            variable_list.append(\"null\")\n",
    "        else:\n",
    "            variable_list.append(f\"'{value}'\")\n",
    "        if i == 4:\n",
    "            variable_list.append(\"12345\")\n",
    "    db.insertTable(table_name, variable_list)"
   ],
   "metadata": {
    "collapsed": false
   }
  },
  {
   "cell_type": "code",
   "execution_count": 6,
   "outputs": [
    {
     "name": "stdout",
     "output_type": "stream",
     "text": [
      "('原辅料销售部', '郭晓东', '男', '营销中心副总经理\\n销售六部总经理（兼）', 'XS001', 'L')\n"
     ]
    }
   ],
   "source": [
    "sql = f\"\"\"\n",
    "SELECT DEPT,SN,SSex,SP,SID,SS\n",
    "FROM StaffInformation\n",
    "WHERE SID = 'XS001'\n",
    "\"\"\"\n",
    "db.execute(sql)\n",
    "\n",
    "info = db.cursor.fetchone()\n",
    "# 编码转换\n",
    "info = tuple(item.encode('latin1').decode('gbk') if isinstance(item, str) else item for item in info)\n",
    "\n",
    "print(info)"
   ],
   "metadata": {
    "collapsed": false
   }
  },
  {
   "cell_type": "code",
   "execution_count": 8,
   "outputs": [
    {
     "name": "stdout",
     "output_type": "stream",
     "text": [
      "连接数据库成功！\n"
     ]
    }
   ],
   "source": [
    "# 创建一个 EasySql 实例\n",
    "db = EasySql()\n",
    "\n",
    "# 定义表格名和字段类型字典\n",
    "table_name = \"CustomerInformation\"\n",
    "type_dic = {\n",
    "    \"PN\": \"VARCHAR(255)\",\n",
    "    \"PW\": \"VARCHAR(255)\",\n",
    "    \"CN\": \"VARCHAR(255)\"\n",
    "}\n",
    "\n",
    "# 创建表格\n",
    "db.creatTable(table_name, type_dic)\n"
   ],
   "metadata": {
    "collapsed": false
   }
  },
  {
   "cell_type": "code",
   "execution_count": null,
   "outputs": [],
   "source": [],
   "metadata": {
    "collapsed": false
   }
  }
 ],
 "metadata": {
  "kernelspec": {
   "display_name": "Python 3",
   "language": "python",
   "name": "python3"
  },
  "language_info": {
   "codemirror_mode": {
    "name": "ipython",
    "version": 2
   },
   "file_extension": ".py",
   "mimetype": "text/x-python",
   "name": "python",
   "nbconvert_exporter": "python",
   "pygments_lexer": "ipython2",
   "version": "2.7.6"
  }
 },
 "nbformat": 4,
 "nbformat_minor": 0
}
